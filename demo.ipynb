{
 "cells": [
  {
   "cell_type": "markdown",
   "metadata": {
    "colab_type": "text",
    "id": "view-in-github"
   },
   "source": [
    "<a href=\"https://colab.research.google.com/github/AliaksandrSiarohin/first-order-model/blob/master/demo.ipynb\" target=\"_parent\"><img src=\"https://colab.research.google.com/assets/colab-badge.svg\" alt=\"Open In Colab\"/></a>"
   ]
  },
  {
   "cell_type": "markdown",
   "metadata": {
    "colab_type": "text",
    "id": "cdO_RxQZLahB"
   },
   "source": [
    "# Demo for paper \"First Order Motion Model for Image Animation\""
   ]
  },
  {
   "cell_type": "markdown",
   "metadata": {
    "colab_type": "text",
    "id": "GCDNKsEGLtR6"
   },
   "source": [
    "**Clone repository**"
   ]
  },
  {
   "cell_type": "code",
   "execution_count": 0,
   "metadata": {
    "colab": {
     "base_uri": "https://localhost:8080/",
     "height": 86
    },
    "colab_type": "code",
    "id": "UCMFMJV7K-ag",
    "outputId": "d4187a1d-60b7-46d5-cf05-b5b555d11138"
   },
   "outputs": [
    {
     "name": "stdout",
     "output_type": "stream",
     "text": [
      "Cloning into 'first-order-model'...\n",
      "remote: Enumerating objects: 85, done.\u001b[K\n",
      "remote: Total 85 (delta 0), reused 0 (delta 0), pack-reused 85\u001b[K\n",
      "Unpacking objects: 100% (85/85), done.\n"
     ]
    }
   ],
   "source": [
    "!pip install PyYAML==5.3.1\n",
    "!git clone https://github.com/AliaksandrSiarohin/first-order-model"
   ]
  },
  {
   "cell_type": "code",
   "execution_count": 0,
   "metadata": {
    "colab": {
     "base_uri": "https://localhost:8080/",
     "height": 34
    },
    "colab_type": "code",
    "id": "PBp6l_4bBYUL",
    "outputId": "4d5061c1-d609-495e-b505-e94a9005a3ba"
   },
   "outputs": [
    {
     "name": "stdout",
     "output_type": "stream",
     "text": [
      "/content/first-order-model\n"
     ]
    }
   ],
   "source": [
    "cd first-order-model"
   ]
  },
  {
   "cell_type": "markdown",
   "metadata": {},
   "source": [
    "# Just run code below, no rendering so it's faster"
   ]
  },
  {
   "cell_type": "code",
   "execution_count": null,
   "metadata": {
    "colab": {
     "base_uri": "https://localhost:8080/",
     "height": 453
    },
    "colab_type": "code",
    "id": "Oxi6-riLOgnm",
    "outputId": "df5ef72c-6133-4607-8684-045613fd81f2"
   },
   "outputs": [],
   "source": [
    "# import imageio\n",
    "from skimage import img_as_ubyte\n",
    "from skimage.transform import resize\n",
    "\n",
    "import warnings\n",
    "warnings.filterwarnings(\"ignore\")\n",
    "\n",
    "from google.colab import drive\n",
    "drive.mount('/content/gdrive')\n",
    "\n",
    "from demo import load_checkpoints, make_animation\n",
    "\n",
    "source_image = imageio.imread(\n",
    "    '/content/gdrive/My Drive/first-order-motion-model/source.png')\n",
    "driving_video = imageio.mimread(\n",
    "    '/content/gdrive/My Drive/first-order-motion-model/lipsync.mp4')\n",
    "\n",
    "# Resize image and video to 256x256\n",
    "\n",
    "source_image = resize(source_image, (256, 256))[..., :3]\n",
    "driving_video = [resize(frame, (256, 256))[..., :3] for frame in driving_video]\n",
    "\n",
    "generator, kp_detector = load_checkpoints(\n",
    "    config_path='config/vox-256.yaml',\n",
    "    checkpoint_path=\n",
    "    '/content/gdrive/My Drive/first-order-motion-model/vox-cpk.pth.tar')\n",
    "\n",
    "predictions = make_animation(\n",
    "    source_image, driving_video, generator, kp_detector, relative=True)\n",
    "\n",
    "# save resulting video\n",
    "imageio.mimsave('generated.mp4',\n",
    "                [img_as_ubyte(frame) for frame in predictions])\n"
   ]
  },
  {
   "cell_type": "markdown",
   "metadata": {},
   "source": [
    "# Speed up video"
   ]
  },
  {
   "cell_type": "code",
   "execution_count": null,
   "metadata": {},
   "outputs": [],
   "source": [
    "!ffmpeg -i generated.mp4 -r 30 -filter:v \"setpts=0.333*PTS\" ../gdrive/My Drive/generated.mp4"
   ]
  }
 ],
 "metadata": {
  "accelerator": "GPU",
  "colab": {
   "include_colab_link": true,
   "name": "first-order-model-demo.ipynb",
   "provenance": [],
   "toc_visible": true
  },
  "kernelspec": {
   "display_name": "Python 3",
   "language": "python",
   "name": "python3"
  },
  "language_info": {
   "codemirror_mode": {
    "name": "ipython",
    "version": 3
   },
   "file_extension": ".py",
   "mimetype": "text/x-python",
   "name": "python",
   "nbconvert_exporter": "python",
   "pygments_lexer": "ipython3",
   "version": "3.7.1"
  }
 },
 "nbformat": 4,
 "nbformat_minor": 1
}
